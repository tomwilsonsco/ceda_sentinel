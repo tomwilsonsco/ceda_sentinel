{
 "cells": [
  {
   "cell_type": "code",
   "execution_count": null,
   "metadata": {},
   "outputs": [],
   "source": [
    "from ceda_sentinel.s2_ard_links import find_image_links\n",
    "from ceda_sentinel.s2_ard_read_write import *"
   ]
  },
  {
   "cell_type": "markdown",
   "metadata": {},
   "source": [
    "- Input a date range and a polygon layer for area(s) of interest\n",
    "- Find Sentinel 2 tile names that intersect area(s) of interest\n",
    "- Find CEDA Sentinel 2 ARD folders that are within that date range\n",
    "- Find images that are not too cloudy overall\n",
    "- Join links to intersecting images to area of interest polygons\n",
    "- Clip the images that intersect the area(s) of interest polygons and save geotiff of the interecting area"
   ]
  },
  {
   "cell_type": "code",
   "execution_count": null,
   "metadata": {},
   "outputs": [],
   "source": [
    "# The root url where CEDA S2 ARD images are found\n",
    "base_url = \"https://data.ceda.ac.uk/neodc/sentinel_ard/data/sentinel_2\""
   ]
  },
  {
   "cell_type": "code",
   "execution_count": null,
   "metadata": {},
   "outputs": [],
   "source": [
    "# The start date and end date over which to search for images\n",
    "# Longer date range means more chance of cloud-free coverage, but also means longer spent searching\n",
    "start_date = \"2023-05-01\"\n",
    "end_date = \"2023-05-31\""
   ]
  },
  {
   "cell_type": "code",
   "execution_count": null,
   "metadata": {},
   "outputs": [],
   "source": [
    "# Read area of interest shapefile. In this case in the repo inputs folder\n",
    "aoi_gdf = gpd.read_file(\"inputs/test_quarries.shp\")"
   ]
  },
  {
   "cell_type": "code",
   "execution_count": null,
   "metadata": {},
   "outputs": [],
   "source": [
    "# Process the AOI polygons:\n",
    "# 1. Find a list of S2 image tile names that intersect the AOI\n",
    "# 2. Find all CEDA S2 XML metadata file links within the date range containing those tile names.\n",
    "# 3. Read each image metadata XML and if image not too cloudy extract image extent.\n",
    "# 4. Spatial join image extent to AOI polygons. If more than one matching image, multiple rows are created in resulting geodataframe.\n",
    "# Cloud Cover in the XML metadata seems to be in the 0 - 1 range, so default of 0.4 implies must be 40% or less to retain the image\n",
    "aoi_image_gdf = find_image_links(aoi_gdf, start_date, end_date, base_url, cloud_cover_max=0.4)"
   ]
  },
  {
   "cell_type": "code",
   "execution_count": null,
   "metadata": {},
   "outputs": [],
   "source": [
    "# Plot one of the images for one AOI\n",
    "plot_sample_image(aoi_image_gdf)"
   ]
  },
  {
   "cell_type": "code",
   "execution_count": null,
   "metadata": {},
   "outputs": [],
   "source": [
    "# Write all window images to disk, by default they will be written to the outputs folder in this repo\n",
    "write_s2_windows_to_tif(aoi_image_gdf)"
   ]
  }
 ],
 "metadata": {
  "kernelspec": {
   "display_name": "geospatial",
   "language": "python",
   "name": "python3"
  },
  "language_info": {
   "codemirror_mode": {
    "name": "ipython",
    "version": 3
   },
   "file_extension": ".py",
   "mimetype": "text/x-python",
   "name": "python",
   "nbconvert_exporter": "python",
   "pygments_lexer": "ipython3",
   "version": "3.12.1"
  }
 },
 "nbformat": 4,
 "nbformat_minor": 2
}
