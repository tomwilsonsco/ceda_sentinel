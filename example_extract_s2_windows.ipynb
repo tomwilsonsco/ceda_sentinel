{
 "cells": [
  {
   "cell_type": "code",
   "execution_count": null,
   "metadata": {},
   "outputs": [],
   "source": [
    "from ceda_sentinel.s2_ard_links import find_image_links\n",
    "from ceda_sentinel.s2_ard_read_write import *\n",
    "import pandas as pd"
   ]
  },
  {
   "cell_type": "markdown",
   "metadata": {},
   "source": [
    "- Input a date range and a polygon layer for area(s) of interest\n",
    "- Find Sentinel 2 tile names that intersect area(s) of interest\n",
    "- Find CEDA Sentinel 2 ARD folders that are within that date range\n",
    "- Find images that are not too cloudy overall\n",
    "- Join links to intersecting images to area of interest polygons\n",
    "- Clip the images that intersect the area(s) of interest polygons and save geotiff of the interecting area"
   ]
  },
  {
   "cell_type": "code",
   "execution_count": null,
   "metadata": {},
   "outputs": [],
   "source": [
    "# The root url where CEDA S2 ARD images are found\n",
    "base_url = \"https://data.ceda.ac.uk/neodc/sentinel_ard/data/sentinel_2\""
   ]
  },
  {
   "cell_type": "code",
   "execution_count": null,
   "metadata": {},
   "outputs": [],
   "source": [
    "# The start date and end date over which to search for images\n",
    "# Longer date range means more chance of cloud-free coverage, but also means longer spent searching\n",
    "start_date = \"2023-05-01\"\n",
    "end_date = \"2023-05-31\""
   ]
  },
  {
   "cell_type": "code",
   "execution_count": null,
   "metadata": {},
   "outputs": [],
   "source": [
    "# Read area of interest file gdb layer\n",
    "input_file_gdb = Path(\n",
    "    \"X:/OpenJobs/job6324rs/MXDs/job6324rs - Planning application boundaries trial/job6324rs - Planning application boundaries trial.gdb\"\n",
    ")\n",
    "sites_gdf = gpd.read_file(input_file_gdb, layer=\"Registered_Sites_Merged_v2\")\n",
    "# Remove empty geometry\n",
    "sites_gdf = sites_gdf[~sites_gdf.geometry.is_empty]"
   ]
  },
  {
   "cell_type": "code",
   "execution_count": null,
   "metadata": {},
   "outputs": [],
   "source": [
    "# Define function to convert points -> buffer -> bounding box\n",
    "def points_to_buffer_box(gdf, buffer_distance=500):\n",
    "    \"\"\"Buffer points by distance and convert to bounding boxes\"\"\"\n",
    "\n",
    "    # Check if all geometries are Points\n",
    "\n",
    "    if not all(gdf.geometry.geom_type == \"Point\"):\n",
    "\n",
    "        print(\"All geometries in the GeoDataFrame must be Points. Exiting.\")\n",
    "\n",
    "        return None\n",
    "\n",
    "    # Reproject to EPSG 27700\n",
    "\n",
    "    gdf = gdf.to_crs(epsg=27700)\n",
    "\n",
    "    # Buffer the geometries\n",
    "\n",
    "    gdf[\"geometry\"] = gdf.geometry.buffer(buffer_distance)\n",
    "\n",
    "    # Convert buffers to bounding boxes\n",
    "\n",
    "    gdf[\"geometry\"] = gdf.geometry.apply(lambda geom: box(*geom.bounds))\n",
    "\n",
    "    return gdf"
   ]
  },
  {
   "cell_type": "code",
   "execution_count": null,
   "metadata": {},
   "outputs": [],
   "source": [
    "aoi_box_gdf = points_to_buffer_box(sites_gdf, buffer_distance=500)"
   ]
  },
  {
   "cell_type": "code",
   "execution_count": null,
   "metadata": {},
   "outputs": [],
   "source": [
    "# Just use the first 50 image ids for now\n",
    "aoi_box_gdf = aoi_box_gdf[aoi_box_gdf[\"image_id\"] <= 50]"
   ]
  },
  {
   "cell_type": "code",
   "execution_count": null,
   "metadata": {},
   "outputs": [],
   "source": [
    "# Process the AOI polygons:\n",
    "# 1. Find a list of S2 image tile names that intersect the AOI\n",
    "# 2. Find all CEDA S2 XML metadata file links within the date range containing those tile names.\n",
    "# 3. Read each image metadata XML and if image not too cloudy extract image extent.\n",
    "# 4. Spatial join image extent to AOI polygons. If more than one matching image, multiple rows are created in resulting geodataframe.\n",
    "# Cloud Cover in the XML metadata seems to be in the 0 - 1 range, so default of 0.4 implies must be 40% or less to retain the image\n",
    "aoi_image_gdf = find_image_links(\n",
    "    aoi_box_gdf, start_date, end_date, base_url, cloud_cover_max=0.1\n",
    ")"
   ]
  },
  {
   "cell_type": "code",
   "execution_count": null,
   "metadata": {},
   "outputs": [],
   "source": [
    "# Save this to pickle so faster for testing PDF plotting options\n",
    "aoi_image_gdf.to_pickle(\"outputs/aoi_image_gdf.pkl\")"
   ]
  },
  {
   "cell_type": "code",
   "execution_count": null,
   "metadata": {},
   "outputs": [],
   "source": [
    "# Read the pickle\n",
    "aoi_image_gdf = pd.read_pickle(\"outputs/aoi_image_gdf.pkl\")"
   ]
  },
  {
   "cell_type": "code",
   "execution_count": null,
   "metadata": {},
   "outputs": [],
   "source": [
    "# Let's just take one image per id for now\n",
    "aoi_image_gdf = aoi_image_gdf.groupby(\"image_id\", as_index=False).first()"
   ]
  },
  {
   "cell_type": "code",
   "execution_count": null,
   "metadata": {},
   "outputs": [],
   "source": [
    "# Plot one of the images for one AOI\n",
    "plot_sample_image(aoi_image_gdf, plot_row=0)"
   ]
  },
  {
   "cell_type": "code",
   "execution_count": null,
   "metadata": {},
   "outputs": [],
   "source": [
    "# Write all window images to disk, by default they will be written to the outputs folder in this repo\n",
    "write_s2_windows_to_tif(\n",
    "    aoi_image_gdf, band_idx_list=[1, 2, 3], aoi_id_column=\"image_id\"\n",
    ")"
   ]
  },
  {
   "cell_type": "markdown",
   "metadata": {},
   "source": [
    "## Part two create pdf of RGB images"
   ]
  },
  {
   "cell_type": "code",
   "execution_count": null,
   "metadata": {},
   "outputs": [],
   "source": [
    "from reportlab.pdfgen import canvas\n",
    "from reportlab.lib.pagesizes import A4\n",
    "import matplotlib.pyplot as plt\n",
    "import rasterio as rio\n",
    "from rasterio.plot import show\n",
    "from matplotlib_scalebar.scalebar import ScaleBar\n",
    "from pathlib import Path\n",
    "from datetime import datetime\n",
    "import re\n",
    "import numpy as np\n",
    "\n",
    "\n",
    "def add_images_to_pdf(images_folder, pdf_path, gdf):\n",
    "    \"\"\"Plot all images in a directory to PDF\"\"\"\n",
    "    c = canvas.Canvas(str(pdf_path), pagesize=A4)\n",
    "    page_width, page_height = A4\n",
    "\n",
    "    images = list(Path(images_folder).glob(\"*.tif\"))\n",
    "    images.sort(key=lambda img: int(img.stem.split(\"_\")[0]))\n",
    "\n",
    "    for image_path in images:\n",
    "        match = re.search(r\"\\d{14}\", image_path.stem)\n",
    "        if match:\n",
    "            # Extract the first 8 digits (YYYYMMDD) from the match for the date\n",
    "            datetime_str = match.group(0)[:8]\n",
    "            datetime_obj = datetime.strptime(datetime_str, \"%Y%m%d\")\n",
    "            formatted_date = datetime_obj.strftime(\"%d %b %Y\")\n",
    "        else:\n",
    "            formatted_date = \"Unknown Date\"\n",
    "        # Extract image_id from the file name (assuming format \"_.tif\")\n",
    "        image_id = image_path.stem.split(\"_\")[0]\n",
    "\n",
    "        # Filter the GeoDataFrame for the current image_id\n",
    "        gdf_filtered = gdf[gdf[\"image_id\"] == int(image_id)]\n",
    "        if not gdf_filtered.empty:\n",
    "            business_name = gdf_filtered[\"USER_Name_of_business\"].iloc[0]\n",
    "            title = f\"{image_id} - {business_name} ({formatted_date})\"\n",
    "        else:\n",
    "            title = f\"{image_id} ({formatted_date})\"\n",
    "\n",
    "        with rio.open(image_path) as src:\n",
    "\n",
    "            fig, ax = plt.subplots(figsize=(9, 9))\n",
    "\n",
    "            ax.set_title(title, pad=20)\n",
    "            img_arr = src.read()\n",
    "            img_arr = np.clip(img_arr, a_min=None, a_max=255)\n",
    "            show(\n",
    "                img_arr[[2, 1, 0], :, :], ax=ax, with_bounds=False, adjust=True\n",
    "            )  # with_bounds=False to not alter aspect ratio\n",
    "\n",
    "            # Add a scale bar\n",
    "            scalebar = ScaleBar(10, units=\"m\", location=\"lower right\", fixed_value=200)\n",
    "            ax.add_artist(scalebar)\n",
    "\n",
    "            ax.set_axis_off()\n",
    "\n",
    "            temp_png_path = image_path.with_suffix(\".png\")\n",
    "            plt.savefig(temp_png_path, dpi=100)  # Specify DPI for image quality\n",
    "            plt.close(fig)\n",
    "\n",
    "            image_width_in_points = 9 * 72\n",
    "            image_height_in_points = 9 * 72\n",
    "            x_position = (page_width - image_width_in_points) / 2\n",
    "            y_position = (page_height - image_height_in_points) / 2\n",
    "\n",
    "            # Draw the image centered on the page\n",
    "            c.drawImage(\n",
    "                str(temp_png_path),\n",
    "                x_position,\n",
    "                y_position,\n",
    "                width=image_width_in_points,\n",
    "                height=image_height_in_points,\n",
    "                preserveAspectRatio=True,\n",
    "            )\n",
    "            c.showPage()\n",
    "\n",
    "            temp_png_path.unlink()\n",
    "\n",
    "    c.save()"
   ]
  },
  {
   "cell_type": "code",
   "execution_count": null,
   "metadata": {},
   "outputs": [],
   "source": [
    "# List of image paths\n",
    "image_folder = Path(\"outputs\")\n",
    "images = list(image_folder.glob(\"*.tif\"))\n",
    "\n",
    "# Output PDF path\n",
    "pdf_path = image_folder / \"sentinel_images.pdf\"\n",
    "\n",
    "# Create PDF\n",
    "add_images_to_pdf(image_folder, pdf_path, sites_gdf)"
   ]
  }
 ],
 "metadata": {
  "kernelspec": {
   "display_name": "geospatial",
   "language": "python",
   "name": "python3"
  },
  "language_info": {
   "codemirror_mode": {
    "name": "ipython",
    "version": 3
   },
   "file_extension": ".py",
   "mimetype": "text/x-python",
   "name": "python",
   "nbconvert_exporter": "python",
   "pygments_lexer": "ipython3",
   "version": "3.12.1"
  }
 },
 "nbformat": 4,
 "nbformat_minor": 2
}
