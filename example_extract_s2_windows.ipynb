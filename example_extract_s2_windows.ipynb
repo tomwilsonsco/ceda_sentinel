{
 "cells": [
  {
   "cell_type": "code",
   "execution_count": null,
   "metadata": {},
   "outputs": [],
   "source": [
    "from ceda_sentinel.s2_ard_links import find_image_links\n",
    "from ceda_sentinel.s2_ard_read_write import *"
   ]
  },
  {
   "cell_type": "markdown",
   "metadata": {},
   "source": [
    "- Input a date range and a polygon layer for area(s) of interest\n",
    "- Find Sentinel 2 tile names that intersect area(s) of interest\n",
    "- Find CEDA Sentinel 2 ARD folders that are within that date range\n",
    "- Find images that are not too cloudy overall\n",
    "- Join links to intersecting images to area of interest polygons\n",
    "- Clip the images that intersect the area(s) of interest polygons and save geotiff of the interecting area"
   ]
  },
  {
   "cell_type": "code",
   "execution_count": null,
   "metadata": {},
   "outputs": [],
   "source": [
    "# The root url where CEDA S2 ARD images are found\n",
    "base_url = \"https://data.ceda.ac.uk/neodc/sentinel_ard/data/sentinel_2\""
   ]
  },
  {
   "cell_type": "code",
   "execution_count": null,
   "metadata": {},
   "outputs": [],
   "source": [
    "# The start date and end date over which to search for images\n",
    "# Longer date range means more chance of cloud-free coverage, but also means longer spent searching\n",
    "start_date = \"2023-05-01\"\n",
    "end_date = \"2023-05-31\""
   ]
  },
  {
   "cell_type": "code",
   "execution_count": null,
   "metadata": {},
   "outputs": [],
   "source": [
    "# Read area of interest shapefile. In this case in the repo inputs folder\n",
    "aoi_gdf = gpd.read_file(\"inputs/my_points.gpkg\")"
   ]
  },
  {
   "cell_type": "code",
   "execution_count": null,
   "metadata": {},
   "outputs": [],
   "source": [
    "# Define function to convert points -> buffer -> bounding box\n",
    "def points_to_buffer_box(gdf, buffer_distance=500):\n",
    "    \"\"\"Buffer points by distance and convert to bounding boxes\"\"\"\n",
    "\n",
    "    # Check if all geometries are Points\n",
    "\n",
    "    if not all(gdf.geometry.geom_type == \"Point\"):\n",
    "\n",
    "        print(\"All geometries in the GeoDataFrame must be Points. Exiting.\")\n",
    "\n",
    "        return None\n",
    "\n",
    "    # Reproject to EPSG 27700\n",
    "\n",
    "    gdf = gdf.to_crs(epsg=27700)\n",
    "\n",
    "    # Buffer the geometries\n",
    "\n",
    "    gdf[\"geometry\"] = gdf.geometry.buffer(buffer_distance)\n",
    "\n",
    "    # Convert buffers to bounding boxes\n",
    "\n",
    "    gdf[\"geometry\"] = gdf.geometry.apply(lambda geom: box(*geom.bounds))\n",
    "\n",
    "    return gdf"
   ]
  },
  {
   "cell_type": "code",
   "execution_count": null,
   "metadata": {},
   "outputs": [],
   "source": [
    "aoi_box_gdf = points_to_buffer_box(aoi_gdf, buffer_distance=500)"
   ]
  },
  {
   "cell_type": "code",
   "execution_count": null,
   "metadata": {},
   "outputs": [],
   "source": [
    "# Process the AOI polygons:\n",
    "# 1. Find a list of S2 image tile names that intersect the AOI\n",
    "# 2. Find all CEDA S2 XML metadata file links within the date range containing those tile names.\n",
    "# 3. Read each image metadata XML and if image not too cloudy extract image extent.\n",
    "# 4. Spatial join image extent to AOI polygons. If more than one matching image, multiple rows are created in resulting geodataframe.\n",
    "# Cloud Cover in the XML metadata seems to be in the 0 - 1 range, so default of 0.4 implies must be 40% or less to retain the image\n",
    "aoi_image_gdf = find_image_links(\n",
    "    aoi_box_gdf, start_date, end_date, base_url, cloud_cover_max=0.1\n",
    ")"
   ]
  },
  {
   "cell_type": "code",
   "execution_count": null,
   "metadata": {},
   "outputs": [],
   "source": [
    "# Plot one of the images for one AOI\n",
    "plot_sample_image(aoi_image_gdf, plot_row=2)"
   ]
  },
  {
   "cell_type": "code",
   "execution_count": null,
   "metadata": {},
   "outputs": [],
   "source": [
    "# Write all window images to disk, by default they will be written to the outputs folder in this repo\n",
    "write_s2_windows_to_tif(\n",
    "    aoi_image_gdf, band_idx_list=[1, 2, 3], aoi_id_column=\"image_id\"\n",
    ")"
   ]
  },
  {
   "cell_type": "code",
   "execution_count": null,
   "metadata": {},
   "outputs": [],
   "source": [
    "images = Path.glob(Path.cwd() / \"outputs\", \"*.tif\")"
   ]
  },
  {
   "cell_type": "code",
   "execution_count": null,
   "metadata": {},
   "outputs": [],
   "source": [
    "test = images.__next__()\n",
    "with rio.open(test) as f:\n",
    "    img_arr = f.read()"
   ]
  },
  {
   "cell_type": "code",
   "execution_count": null,
   "metadata": {},
   "outputs": [],
   "source": [
    "show(img_arr[[2, 1, 0], :, :], adjust=True)"
   ]
  }
 ],
 "metadata": {
  "kernelspec": {
   "display_name": "geospatial",
   "language": "python",
   "name": "python3"
  },
  "language_info": {
   "codemirror_mode": {
    "name": "ipython",
    "version": 3
   },
   "file_extension": ".py",
   "mimetype": "text/x-python",
   "name": "python",
   "nbconvert_exporter": "python",
   "pygments_lexer": "ipython3",
   "version": "3.11.5"
  }
 },
 "nbformat": 4,
 "nbformat_minor": 2
}
