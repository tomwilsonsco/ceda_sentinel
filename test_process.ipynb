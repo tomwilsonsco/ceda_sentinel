{
 "cells": [
  {
   "cell_type": "code",
   "execution_count": null,
   "metadata": {},
   "outputs": [],
   "source": [
    "import requests\n",
    "from bs4 import BeautifulSoup\n",
    "import re\n",
    "import lxml\n",
    "from datetime import datetime, timedelta\n",
    "from shapely.geometry import box\n",
    "from fiona.drvsupport import supported_drivers\n",
    "import geopandas as gpd\n",
    "import rasterio as rio\n",
    "from rasterio.windows import from_bounds\n",
    "from rasterio.plot import show\n",
    "from pathlib import Path\n",
    "import numpy as np\n",
    "from ceda_sentinel.s2_ard_links import find_image_links\n",
    "from ceda_sentinel.s2_ard_read_write import *"
   ]
  },
  {
   "cell_type": "markdown",
   "metadata": {},
   "source": [
    "- Input a date range and a polygon for area(s) of interest\n",
    "- Find folders that are within that date range\n",
    "- Find images that intersect the polygons\n",
    "- Clip the images that intersect by the polygons and save geotiff of the interecting area"
   ]
  },
  {
   "cell_type": "code",
   "execution_count": null,
   "metadata": {},
   "outputs": [],
   "source": [
    "base_url = \"https://data.ceda.ac.uk/neodc/sentinel_ard/data/sentinel_2\""
   ]
  },
  {
   "cell_type": "code",
   "execution_count": null,
   "metadata": {},
   "outputs": [],
   "source": [
    "start_date = \"2023-05-01\"\n",
    "end_date = \"2023-05-31\""
   ]
  },
  {
   "cell_type": "code",
   "execution_count": null,
   "metadata": {},
   "outputs": [],
   "source": [
    "aoi_gdf = gpd.read_file(\"inputs/test_quarries.shp\")"
   ]
  },
  {
   "cell_type": "code",
   "execution_count": null,
   "metadata": {},
   "outputs": [],
   "source": [
    "aoi_image_gdf = find_image_links(aoi_gdf, start_date, end_date, base_url)"
   ]
  },
  {
   "cell_type": "code",
   "execution_count": null,
   "metadata": {},
   "outputs": [],
   "source": [
    "plot_sample_image(aoi_image_gdf)"
   ]
  },
  {
   "cell_type": "code",
   "execution_count": null,
   "metadata": {},
   "outputs": [],
   "source": [
    "write_s2_windows_to_tif(aoi_image_gdf)"
   ]
  }
 ],
 "metadata": {
  "kernelspec": {
   "display_name": "geospatial",
   "language": "python",
   "name": "python3"
  },
  "language_info": {
   "codemirror_mode": {
    "name": "ipython",
    "version": 3
   },
   "file_extension": ".py",
   "mimetype": "text/x-python",
   "name": "python",
   "nbconvert_exporter": "python",
   "pygments_lexer": "ipython3",
   "version": "3.12.0"
  }
 },
 "nbformat": 4,
 "nbformat_minor": 2
}
