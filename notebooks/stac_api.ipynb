{
 "cells": [
  {
   "cell_type": "code",
   "execution_count": null,
   "id": "1019ae6d",
   "metadata": {},
   "outputs": [],
   "source": [
    "# pystac client helps search the stac api\n",
    "! pip install pystac-client"
   ]
  },
  {
   "cell_type": "code",
   "execution_count": null,
   "id": "73b130f2",
   "metadata": {},
   "outputs": [],
   "source": [
    "from pystac_client import Client\n",
    "import rasterio as rio\n",
    "from rasterio.windows import Window\n",
    "from shapely.geometry import box, shape\n",
    "import geopandas as gpd\n",
    "from rasterio.windows import from_bounds\n",
    "import requests\n",
    "from PIL import Image\n",
    "import matplotlib.pyplot as plt\n",
    "from io import BytesIO"
   ]
  },
  {
   "cell_type": "code",
   "execution_count": null,
   "id": "f3e46525",
   "metadata": {},
   "outputs": [],
   "source": [
    "CEDA_STAC_API = \"https://api.stac.ceda.ac.uk/\""
   ]
  },
  {
   "cell_type": "code",
   "execution_count": null,
   "id": "f3f6e3e2",
   "metadata": {},
   "outputs": [],
   "source": [
    "S2_ARD_COLLECTION = \"sentinel2_ard\"\n"
   ]
  },
  {
   "cell_type": "code",
   "execution_count": null,
   "id": "4e7d5721",
   "metadata": {},
   "outputs": [],
   "source": [
    "catalog = Client.open(CEDA_STAC_API)"
   ]
  },
  {
   "cell_type": "code",
   "execution_count": null,
   "id": "df52022c",
   "metadata": {},
   "outputs": [],
   "source": [
    "bbox = [-2.79020226,55.95618749,-2.76890687,55.96888997]"
   ]
  },
  {
   "cell_type": "code",
   "execution_count": null,
   "id": "63114dc3",
   "metadata": {},
   "outputs": [],
   "source": [
    "start_date = \"2025-05-01\"\n",
    "\n",
    "end_date = \"2025-05-31\"\n",
    "\n",
    "daterange = f\"{start_date}/{end_date}\""
   ]
  },
  {
   "cell_type": "code",
   "execution_count": null,
   "id": "b7611a97",
   "metadata": {},
   "outputs": [],
   "source": [
    "# see what other properties can query for this collection\n",
    "collection = catalog.get_collection(S2_ARD_COLLECTION)\n",
    "collection.get_queryables()"
   ]
  },
  {
   "cell_type": "code",
   "execution_count": null,
   "id": "d0977329",
   "metadata": {},
   "outputs": [],
   "source": [
    "# will use a max cloud_cover\n",
    "cloud_filter = {\n",
    "    \"op\": \"<=\",\n",
    "    \"args\": [{\"property\": \"cloud_cover\"}, 10]\n",
    "}"
   ]
  },
  {
   "cell_type": "code",
   "execution_count": null,
   "id": "aab0beab",
   "metadata": {},
   "outputs": [],
   "source": [
    "# Perform the search\n",
    "search = catalog.search(\n",
    "    collections=[S2_ARD_COLLECTION],\n",
    "    bbox=bbox,\n",
    "    datetime=daterange,\n",
    "    filter={\"op\": \"and\", \"args\": [cloud_filter]},\n",
    ")\n",
    "\n",
    "search_items = search.item_collection()\n",
    "\n",
    "print(f\"{len(search_items)} items returned\")\n",
    "\n",
    "# You can then iterate through the found items\n",
    "for item in search_items:\n",
    "    print(item.id)"
   ]
  },
  {
   "cell_type": "code",
   "execution_count": null,
   "id": "809395f7",
   "metadata": {},
   "outputs": [],
   "source": [
    "# check a given image intersects the aoi\n",
    "first_item = search_items[0]\n",
    "\n",
    "bbox_polygon = box(*bbox)\n",
    "image_footprint = shape(first_item.geometry)\n",
    "\n",
    "intersection = bbox_polygon.intersection(image_footprint)\n",
    "\n",
    "coverage_proportion = intersection.area / bbox_polygon.area\n",
    "\n",
    "print(f\"Image footprint covers {coverage_proportion:.2%} of your input bbox.\")"
   ]
  },
  {
   "cell_type": "code",
   "execution_count": null,
   "id": "f0f77e64",
   "metadata": {},
   "outputs": [],
   "source": [
    "# assets of items can be downloaded or read\n",
    "first_item.assets.keys()"
   ]
  },
  {
   "cell_type": "code",
   "execution_count": null,
   "id": "738c8faa",
   "metadata": {},
   "outputs": [],
   "source": [
    "# Download the cog\n",
    "download_url = first_item.assets[\"cog\"].href\n",
    "file_name = download_url.split(\"/\")[-1]"
   ]
  },
  {
   "cell_type": "code",
   "execution_count": null,
   "id": "4f43b0c4",
   "metadata": {},
   "outputs": [],
   "source": [
    "# Download the whole tile - commenting this out as takes a while, large download\n",
    "\n",
    "# with requests.get(download_url, stream=True) as r:\n",
    "#     r.raise_for_status()\n",
    "#     with open(file_name, 'wb') as f:\n",
    "#         for chunk in r.iter_content(chunk_size=8192):\n",
    "#             f.write(chunk)\n",
    "\n",
    "# print(f\"Successfully downloaded to '{file_name}'\")"
   ]
  },
  {
   "cell_type": "code",
   "execution_count": null,
   "id": "5c1f263a",
   "metadata": {},
   "outputs": [],
   "source": [
    "# read / write an array of cog from bbox\n",
    "bbox_polygon = box(*bbox)\n",
    "box_gdf = gpd.GeoDataFrame(geometry=[bbox_polygon], crs=\"EPSG:4326\").to_crs(\"epsg:27700\")\n",
    "bounds = box_gdf.total_bounds\n",
    "\n",
    "output_filename = \"clipped_test.tif\"\n",
    "\n",
    "with rio.open(download_url) as src:\n",
    "\n",
    "    window = from_bounds(*bounds, src.transform)\n",
    "\n",
    "    # Read bands 1, 2, and 3 from the window\n",
    "    data = src.read([1, 2, 3], window=window)\n",
    "\n",
    "    out_transform = src.window_transform(window)\n",
    "\n",
    "    profile = src.profile.copy()\n",
    "    profile.update({\n",
    "        'height': int(window.height),\n",
    "        'width': int(window.width),\n",
    "        'transform': out_transform,\n",
    "        'count': 3\n",
    "    })\n",
    "\n",
    "    # Write the new GeoTIFF to a local file\n",
    "    with rio.open(output_filename, 'w', **profile) as dst:\n",
    "        dst.write(data)\n",
    "        \n",
    "    print(f\"Successfully saved {output_filename}\")"
   ]
  },
  {
   "cell_type": "code",
   "execution_count": null,
   "id": "da8737af",
   "metadata": {},
   "outputs": [],
   "source": [
    "# Use the thumbnail asset to preview the image, e.g. before download\n",
    "\n",
    "thumbnail_asset = first_item.assets['thumbnail']\n",
    "thumbnail_url = thumbnail_asset.href\n",
    "print(f\"Thumbnail URL: {thumbnail_url}\")\n",
    "\n",
    "print(\"Thumbnail asset not found in this item.\")\n",
    "exit()\n",
    "response = requests.get(thumbnail_url)\n",
    "response.raise_for_status() # This will raise an error for bad responses (4xx or 5xx)\n",
    "\n",
    "# 3. Open the image from the downloaded content\n",
    "# BytesIO allows PIL to read the image data directly from memory\n",
    "thumbnail_image = Image.open(BytesIO(response.content))\n",
    "\n",
    "# 4. Plot the image using Matplotlib\n",
    "print(\"Displaying thumbnail...\")\n",
    "plt.figure(figsize=(8, 8)) # You can adjust the figure size\n",
    "plt.imshow(thumbnail_image)\n",
    "plt.title(f\"Thumbnail for Item: {first_item.id}\")\n",
    "plt.axis('off') # Hide the axes for a cleaner look\n",
    "plt.show()"
   ]
  }
 ],
 "metadata": {
  "kernelspec": {
   "display_name": "Python 3",
   "language": "python",
   "name": "python3"
  },
  "language_info": {
   "codemirror_mode": {
    "name": "ipython",
    "version": 3
   },
   "file_extension": ".py",
   "mimetype": "text/x-python",
   "name": "python",
   "nbconvert_exporter": "python",
   "pygments_lexer": "ipython3",
   "version": "3.12.4"
  }
 },
 "nbformat": 4,
 "nbformat_minor": 5
}
